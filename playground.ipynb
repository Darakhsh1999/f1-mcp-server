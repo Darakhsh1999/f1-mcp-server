{
 "cells": [
  {
   "cell_type": "code",
   "execution_count": 3,
   "id": "b7d2515e",
   "metadata": {},
   "outputs": [
    {
     "name": "stdout",
     "output_type": "stream",
     "text": [
      "Successfully loaded in libraries\n"
     ]
    }
   ],
   "source": [
    "import fastf1\n",
    "import pandas as pd\n",
    "print(\"Successfully loaded in libraries\")"
   ]
  },
  {
   "cell_type": "code",
   "execution_count": null,
   "id": "8109aed6",
   "metadata": {},
   "outputs": [
    {
     "name": "stderr",
     "output_type": "stream",
     "text": [
      "req         WARNING \tDEFAULT CACHE ENABLED! (24.0 KB) /home/arre/.cache/fastf1\n",
      "core           INFO \tLoading data for Bahrain Grand Prix - Qualifying [v3.5.3]\n",
      "req            INFO \tNo cached data found for session_info. Loading data...\n",
      "_api           INFO \tFetching session info data...\n",
      "req            INFO \tData has been written to cache!\n",
      "req            INFO \tNo cached data found for driver_info. Loading data...\n",
      "_api           INFO \tFetching driver list...\n",
      "req            INFO \tData has been written to cache!\n",
      "req            INFO \tNo cached data found for race_control_messages. Loading data...\n",
      "_api           INFO \tFetching race control messages...\n",
      "req            INFO \tData has been written to cache!\n",
      "core           INFO \tFinished loading data for 20 drivers: ['81', '63', '16', '12', '10', '4', '1', '55', '44', '22', '7', '6', '14', '31', '23', '27', '30', '5', '18', '87']\n"
     ]
    },
    {
     "name": "stdout",
     "output_type": "stream",
     "text": [
      "Pronto Lewis?\n"
     ]
    }
   ],
   "source": [
    "session = fastf1.get_session(2025, 'Bahrain', 'Race')\n",
    "session.load(telemetry=False, laps=False, weather=False)\n",
    "driver = session.get_driver('HAM')\n",
    "print(f\"{driver['FirstName']}: Bono my Tyres are dead, oh wait I'm in a Ferrari now\")"
   ]
  },
  {
   "cell_type": "code",
   "execution_count": null,
   "id": "2802920a",
   "metadata": {},
   "outputs": [],
   "source": [
    "# Upcoming event"
   ]
  },
  {
   "cell_type": "code",
   "execution_count": null,
   "id": "84319abc",
   "metadata": {},
   "outputs": [],
   "source": [
    "# Is there an active event?"
   ]
  },
  {
   "cell_type": "code",
   "execution_count": null,
   "id": "599aeec3",
   "metadata": {},
   "outputs": [],
   "source": [
    "# Respone object for OpenF1\n",
    "from urllib.request import urlopen\n",
    "import json\n",
    "\n",
    "response = urlopen('https://api.openf1.org/v1/car_data?driver_number=55&session_key=9159&speed>=315')\n",
    "data = json.loads(response.read().decode('utf-8'))\n",
    "print(data)"
   ]
  }
 ],
 "metadata": {
  "kernelspec": {
   "display_name": ".venv",
   "language": "python",
   "name": "python3"
  },
  "language_info": {
   "codemirror_mode": {
    "name": "ipython",
    "version": 3
   },
   "file_extension": ".py",
   "mimetype": "text/x-python",
   "name": "python",
   "nbconvert_exporter": "python",
   "pygments_lexer": "ipython3",
   "version": "3.12.3"
  }
 },
 "nbformat": 4,
 "nbformat_minor": 5
}
